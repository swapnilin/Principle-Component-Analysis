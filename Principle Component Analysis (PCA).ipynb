{
 "cells": [
  {
   "cell_type": "markdown",
   "metadata": {
    "id": "ublbUGGBOPU1"
   },
   "source": [
    "-----------------------------\n",
    "## Context:\n",
    "-----------------------------\n",
    "In this case study, we will use the Air pollution dataset which contains information about 13 months of data on major pollutants and meteorological levels of a city. \n",
    "\n",
    "-----------------------------\n",
    "## Objective: \n",
    "-----------------------------\n",
    "The objective of this problem is to reduce the number of features by using dimensionality reduction techniques like PCA and extract insights. "
   ]
  },
  {
   "cell_type": "markdown",
   "metadata": {
    "id": "--TM2FWEOPU4"
   },
   "source": [
    "## Importing libraries and overview of the dataset"
   ]
  },
  {
   "cell_type": "code",
   "execution_count": 1,
   "metadata": {
    "id": "WK1odb70OPU4"
   },
   "outputs": [],
   "source": [
    "import pandas as pd\n",
    "import numpy as np\n",
    "import matplotlib.pyplot as plt\n",
    "import seaborn as sns\n",
    "\n",
    "#to scale the data using z-score \n",
    "from sklearn.preprocessing import StandardScaler\n",
    "\n",
    "#Importing PCA and TSNE\n",
    "from sklearn.decomposition import PCA"
   ]
  },
  {
   "cell_type": "markdown",
   "metadata": {},
   "source": [
    "#### Loading data"
   ]
  },
  {
   "cell_type": "code",
   "execution_count": 2,
   "metadata": {
    "id": "UUFD5GJPOPVQ"
   },
   "outputs": [],
   "source": [
    "#Loading data\n",
    "data= pd.read_csv(\"Air_Pollution.csv\")"
   ]
  },
  {
   "cell_type": "code",
   "execution_count": 20,
   "metadata": {
    "id": "rmccAeSTOPVR",
    "outputId": "a0fe4110-3513-4829-dd2b-67908e734b56"
   },
   "outputs": [
    {
     "data": {
      "text/html": [
       "<div>\n",
       "<style scoped>\n",
       "    .dataframe tbody tr th:only-of-type {\n",
       "        vertical-align: middle;\n",
       "    }\n",
       "\n",
       "    .dataframe tbody tr th {\n",
       "        vertical-align: top;\n",
       "    }\n",
       "\n",
       "    .dataframe thead th {\n",
       "        text-align: right;\n",
       "    }\n",
       "</style>\n",
       "<table border=\"1\" class=\"dataframe\">\n",
       "  <thead>\n",
       "    <tr style=\"text-align: right;\">\n",
       "      <th></th>\n",
       "      <th>SrNo</th>\n",
       "      <th>Date</th>\n",
       "      <th>NO</th>\n",
       "      <th>CO</th>\n",
       "      <th>NO2</th>\n",
       "      <th>O3</th>\n",
       "      <th>SO2</th>\n",
       "      <th>PM2.5</th>\n",
       "      <th>Benzene</th>\n",
       "      <th>Toulene</th>\n",
       "      <th>...</th>\n",
       "      <th>WindSpeed</th>\n",
       "      <th>VerticalWindSpeed</th>\n",
       "      <th>Solar</th>\n",
       "      <th>BarPressure</th>\n",
       "      <th>Weather</th>\n",
       "      <th>PD_PM2.5</th>\n",
       "      <th>PD_PM10</th>\n",
       "      <th>PD_NO2</th>\n",
       "      <th>PD_SO2</th>\n",
       "      <th>PD_CO</th>\n",
       "    </tr>\n",
       "  </thead>\n",
       "  <tbody>\n",
       "    <tr>\n",
       "      <th>0</th>\n",
       "      <td>1</td>\n",
       "      <td>04-04-2015</td>\n",
       "      <td>7.22</td>\n",
       "      <td>1.77</td>\n",
       "      <td>47.94</td>\n",
       "      <td>51.07</td>\n",
       "      <td>16.88</td>\n",
       "      <td>48.99</td>\n",
       "      <td>2.53</td>\n",
       "      <td>9.65</td>\n",
       "      <td>...</td>\n",
       "      <td>1.22</td>\n",
       "      <td>0.08</td>\n",
       "      <td>162.18</td>\n",
       "      <td>732.25</td>\n",
       "      <td>Summer</td>\n",
       "      <td>NaN</td>\n",
       "      <td>NaN</td>\n",
       "      <td>NaN</td>\n",
       "      <td>NaN</td>\n",
       "      <td>NaN</td>\n",
       "    </tr>\n",
       "    <tr>\n",
       "      <th>1</th>\n",
       "      <td>2</td>\n",
       "      <td>05-04-2015</td>\n",
       "      <td>6.99</td>\n",
       "      <td>0.22</td>\n",
       "      <td>45.27</td>\n",
       "      <td>19.26</td>\n",
       "      <td>16.71</td>\n",
       "      <td>60.20</td>\n",
       "      <td>3.19</td>\n",
       "      <td>11.10</td>\n",
       "      <td>...</td>\n",
       "      <td>0.62</td>\n",
       "      <td>-0.04</td>\n",
       "      <td>99.37</td>\n",
       "      <td>734.05</td>\n",
       "      <td>Summer</td>\n",
       "      <td>48.99</td>\n",
       "      <td>82.85</td>\n",
       "      <td>47.94</td>\n",
       "      <td>16.88</td>\n",
       "      <td>1.77</td>\n",
       "    </tr>\n",
       "    <tr>\n",
       "      <th>2</th>\n",
       "      <td>3</td>\n",
       "      <td>09-04-2015</td>\n",
       "      <td>7.60</td>\n",
       "      <td>0.50</td>\n",
       "      <td>59.86</td>\n",
       "      <td>94.29</td>\n",
       "      <td>13.11</td>\n",
       "      <td>46.93</td>\n",
       "      <td>2.29</td>\n",
       "      <td>8.61</td>\n",
       "      <td>...</td>\n",
       "      <td>1.55</td>\n",
       "      <td>-0.17</td>\n",
       "      <td>146.94</td>\n",
       "      <td>728.08</td>\n",
       "      <td>Summer</td>\n",
       "      <td>NaN</td>\n",
       "      <td>NaN</td>\n",
       "      <td>NaN</td>\n",
       "      <td>NaN</td>\n",
       "      <td>NaN</td>\n",
       "    </tr>\n",
       "    <tr>\n",
       "      <th>3</th>\n",
       "      <td>4</td>\n",
       "      <td>10-04-2015</td>\n",
       "      <td>7.57</td>\n",
       "      <td>0.77</td>\n",
       "      <td>63.56</td>\n",
       "      <td>66.91</td>\n",
       "      <td>16.19</td>\n",
       "      <td>112.95</td>\n",
       "      <td>3.92</td>\n",
       "      <td>10.76</td>\n",
       "      <td>...</td>\n",
       "      <td>1.18</td>\n",
       "      <td>-0.15</td>\n",
       "      <td>150.07</td>\n",
       "      <td>730.47</td>\n",
       "      <td>Summer</td>\n",
       "      <td>46.93</td>\n",
       "      <td>171.36</td>\n",
       "      <td>59.86</td>\n",
       "      <td>13.11</td>\n",
       "      <td>0.50</td>\n",
       "    </tr>\n",
       "    <tr>\n",
       "      <th>4</th>\n",
       "      <td>5</td>\n",
       "      <td>11-04-2015</td>\n",
       "      <td>8.34</td>\n",
       "      <td>0.48</td>\n",
       "      <td>61.99</td>\n",
       "      <td>69.48</td>\n",
       "      <td>20.28</td>\n",
       "      <td>104.87</td>\n",
       "      <td>5.19</td>\n",
       "      <td>15.95</td>\n",
       "      <td>...</td>\n",
       "      <td>0.88</td>\n",
       "      <td>0.15</td>\n",
       "      <td>137.01</td>\n",
       "      <td>730.62</td>\n",
       "      <td>Summer</td>\n",
       "      <td>112.95</td>\n",
       "      <td>232.22</td>\n",
       "      <td>63.56</td>\n",
       "      <td>16.19</td>\n",
       "      <td>0.77</td>\n",
       "    </tr>\n",
       "  </tbody>\n",
       "</table>\n",
       "<p>5 rows × 27 columns</p>\n",
       "</div>"
      ],
      "text/plain": [
       "   SrNo        Date    NO    CO    NO2     O3    SO2   PM2.5  Benzene  \\\n",
       "0     1  04-04-2015  7.22  1.77  47.94  51.07  16.88   48.99     2.53   \n",
       "1     2  05-04-2015  6.99  0.22  45.27  19.26  16.71   60.20     3.19   \n",
       "2     3  09-04-2015  7.60  0.50  59.86  94.29  13.11   46.93     2.29   \n",
       "3     4  10-04-2015  7.57  0.77  63.56  66.91  16.19  112.95     3.92   \n",
       "4     5  11-04-2015  8.34  0.48  61.99  69.48  20.28  104.87     5.19   \n",
       "\n",
       "   Toulene  ...  WindSpeed  VerticalWindSpeed   Solar  BarPressure  Weather  \\\n",
       "0     9.65  ...       1.22               0.08  162.18       732.25   Summer   \n",
       "1    11.10  ...       0.62              -0.04   99.37       734.05   Summer   \n",
       "2     8.61  ...       1.55              -0.17  146.94       728.08   Summer   \n",
       "3    10.76  ...       1.18              -0.15  150.07       730.47   Summer   \n",
       "4    15.95  ...       0.88               0.15  137.01       730.62   Summer   \n",
       "\n",
       "   PD_PM2.5  PD_PM10  PD_NO2  PD_SO2  PD_CO  \n",
       "0       NaN      NaN     NaN     NaN    NaN  \n",
       "1     48.99    82.85   47.94   16.88   1.77  \n",
       "2       NaN      NaN     NaN     NaN    NaN  \n",
       "3     46.93   171.36   59.86   13.11   0.50  \n",
       "4    112.95   232.22   63.56   16.19   0.77  \n",
       "\n",
       "[5 rows x 27 columns]"
      ]
     },
     "execution_count": 20,
     "metadata": {},
     "output_type": "execute_result"
    }
   ],
   "source": [
    "data.head()"
   ]
  },
  {
   "cell_type": "markdown",
   "metadata": {
    "id": "2EfTVX4ZOPVS"
   },
   "source": [
    "#### Check the info of the data"
   ]
  },
  {
   "cell_type": "code",
   "execution_count": 21,
   "metadata": {
    "id": "4pYukcobOPVS",
    "outputId": "ebeda551-adcf-4845-e150-4f06265d23e4"
   },
   "outputs": [
    {
     "name": "stdout",
     "output_type": "stream",
     "text": [
      "<class 'pandas.core.frame.DataFrame'>\n",
      "RangeIndex: 403 entries, 0 to 402\n",
      "Data columns (total 27 columns):\n",
      " #   Column             Non-Null Count  Dtype  \n",
      "---  ------             --------------  -----  \n",
      " 0   SrNo               403 non-null    int64  \n",
      " 1   Date               403 non-null    object \n",
      " 2   NO                 401 non-null    float64\n",
      " 3   CO                 402 non-null    float64\n",
      " 4   NO2                401 non-null    float64\n",
      " 5   O3                 397 non-null    float64\n",
      " 6   SO2                399 non-null    float64\n",
      " 7   PM2.5              401 non-null    float64\n",
      " 8   Benzene            402 non-null    float64\n",
      " 9   Toulene            402 non-null    float64\n",
      " 10  P_Xylene           372 non-null    float64\n",
      " 11  NOx                401 non-null    float64\n",
      " 12  PM10               401 non-null    float64\n",
      " 13  WindDirection      402 non-null    float64\n",
      " 14  NH3                401 non-null    float64\n",
      " 15  RH                 402 non-null    float64\n",
      " 16  Temp               401 non-null    float64\n",
      " 17  WindSpeed          402 non-null    float64\n",
      " 18  VerticalWindSpeed  401 non-null    float64\n",
      " 19  Solar              401 non-null    float64\n",
      " 20  BarPressure        401 non-null    float64\n",
      " 21  Weather            403 non-null    object \n",
      " 22  PD_PM2.5           393 non-null    float64\n",
      " 23  PD_PM10            392 non-null    float64\n",
      " 24  PD_NO2             391 non-null    float64\n",
      " 25  PD_SO2             390 non-null    float64\n",
      " 26  PD_CO              392 non-null    float64\n",
      "dtypes: float64(24), int64(1), object(2)\n",
      "memory usage: 85.1+ KB\n"
     ]
    }
   ],
   "source": [
    "data.info()"
   ]
  },
  {
   "cell_type": "markdown",
   "metadata": {
    "id": "f-Jbx8ycOPVT"
   },
   "source": [
    "- There are 403 observations and 27 columns in the data.\n",
    "- All the columns except Date and Weather are of numeric data type.\n",
    "- The Date and SrNo for all observations would be unique. We can drop these columns as they would not add value to our analysis.\n",
    "- Weather is of object data type. We can create dummy variables for each category and convert it to numeric data type.\n",
    "- The majority of the columns have some missing values.\n",
    "- Let's check the number of missing values in each column."
   ]
  },
  {
   "cell_type": "code",
   "execution_count": 22,
   "metadata": {
    "id": "lm3FVIAxOPVT",
    "outputId": "4092c074-7b28-429b-bfa3-5b23fb466dd8"
   },
   "outputs": [
    {
     "data": {
      "text/plain": [
       "SrNo                  0\n",
       "Date                  0\n",
       "NO                    2\n",
       "CO                    1\n",
       "NO2                   2\n",
       "O3                    6\n",
       "SO2                   4\n",
       "PM2.5                 2\n",
       "Benzene               1\n",
       "Toulene               1\n",
       "P_Xylene             31\n",
       "NOx                   2\n",
       "PM10                  2\n",
       "WindDirection         1\n",
       "NH3                   2\n",
       "RH                    1\n",
       "Temp                  2\n",
       "WindSpeed             1\n",
       "VerticalWindSpeed     2\n",
       "Solar                 2\n",
       "BarPressure           2\n",
       "Weather               0\n",
       "PD_PM2.5             10\n",
       "PD_PM10              11\n",
       "PD_NO2               12\n",
       "PD_SO2               13\n",
       "PD_CO                11\n",
       "dtype: int64"
      ]
     },
     "execution_count": 22,
     "metadata": {},
     "output_type": "execute_result"
    }
   ],
   "source": [
    "data.isnull().sum()"
   ]
  },
  {
   "cell_type": "markdown",
   "metadata": {
    "id": "dnmJ-if_OPVU"
   },
   "source": [
    "- All the columns except SrNo and Date have missing values."
   ]
  },
  {
   "cell_type": "markdown",
   "metadata": {
    "id": "CrGqbeJDOPVU"
   },
   "source": [
    "#### Data Preprocessing"
   ]
  },
  {
   "cell_type": "code",
   "execution_count": 3,
   "metadata": {
    "id": "kq7M_pDAOPVU"
   },
   "outputs": [],
   "source": [
    "data.drop(columns=[\"SrNo\", \"Date\"], inplace=True)"
   ]
  },
  {
   "cell_type": "code",
   "execution_count": 4,
   "metadata": {
    "id": "BbzFRLTVOPVV"
   },
   "outputs": [],
   "source": [
    "#Imputing missing values with mode(most frequent) for the Weather column and with median for all other columns\n",
    "for col in data.columns:\n",
    "    if col == \"Weather\":\n",
    "        data[col].fillna(value=data[col].mode()[0], inplace=True)\n",
    "    else:\n",
    "        data[col].fillna(value=data[col].median(), inplace=True)"
   ]
  },
  {
   "cell_type": "code",
   "execution_count": 5,
   "metadata": {
    "id": "q9U3iDryOPVW"
   },
   "outputs": [],
   "source": [
    "#Creating dummy variables for Weather column\n",
    "data = pd.get_dummies(data, drop_first=True)"
   ]
  },
  {
   "cell_type": "code",
   "execution_count": 6,
   "metadata": {},
   "outputs": [
    {
     "data": {
      "text/html": [
       "<div><div id=f09ea7ec-bc43-416d-9a49-a15b8b22aeb7 style=\"display:none; background-color:#9D6CFF; color:white; width:200px; height:30px; padding-left:5px; border-radius:4px; flex-direction:row; justify-content:space-around; align-items:center;\" onmouseover=\"this.style.backgroundColor='#BA9BF8'\" onmouseout=\"this.style.backgroundColor='#9D6CFF'\" onclick=\"window.commands?.execute('create-mitosheet-from-dataframe-output');\">See Full Dataframe in Mito</div> <script> if (window.commands.hasCommand('create-mitosheet-from-dataframe-output')) document.getElementById('f09ea7ec-bc43-416d-9a49-a15b8b22aeb7').style.display = 'flex' </script> <table border=\"1\" class=\"dataframe\">\n",
       "  <thead>\n",
       "    <tr style=\"text-align: right;\">\n",
       "      <th></th>\n",
       "      <th>NO</th>\n",
       "      <th>CO</th>\n",
       "      <th>NO2</th>\n",
       "      <th>O3</th>\n",
       "      <th>SO2</th>\n",
       "      <th>PM2.5</th>\n",
       "      <th>Benzene</th>\n",
       "      <th>Toulene</th>\n",
       "      <th>P_Xylene</th>\n",
       "      <th>NOx</th>\n",
       "      <th>...</th>\n",
       "      <th>BarPressure</th>\n",
       "      <th>PD_PM2.5</th>\n",
       "      <th>PD_PM10</th>\n",
       "      <th>PD_NO2</th>\n",
       "      <th>PD_SO2</th>\n",
       "      <th>PD_CO</th>\n",
       "      <th>Weather_Monsoon</th>\n",
       "      <th>Weather_Spring</th>\n",
       "      <th>Weather_Summer</th>\n",
       "      <th>Weather_Winter</th>\n",
       "    </tr>\n",
       "  </thead>\n",
       "  <tbody>\n",
       "    <tr>\n",
       "      <th>0</th>\n",
       "      <td>7.22</td>\n",
       "      <td>1.77</td>\n",
       "      <td>47.94</td>\n",
       "      <td>51.07</td>\n",
       "      <td>16.88</td>\n",
       "      <td>48.99</td>\n",
       "      <td>2.53</td>\n",
       "      <td>9.65</td>\n",
       "      <td>3.00</td>\n",
       "      <td>52.97</td>\n",
       "      <td>...</td>\n",
       "      <td>732.25</td>\n",
       "      <td>108.24</td>\n",
       "      <td>250.105</td>\n",
       "      <td>73.52</td>\n",
       "      <td>21.605</td>\n",
       "      <td>1.775</td>\n",
       "      <td>0</td>\n",
       "      <td>0</td>\n",
       "      <td>1</td>\n",
       "      <td>0</td>\n",
       "    </tr>\n",
       "    <tr>\n",
       "      <th>1</th>\n",
       "      <td>6.99</td>\n",
       "      <td>0.22</td>\n",
       "      <td>45.27</td>\n",
       "      <td>19.26</td>\n",
       "      <td>16.71</td>\n",
       "      <td>60.20</td>\n",
       "      <td>3.19</td>\n",
       "      <td>11.10</td>\n",
       "      <td>2.67</td>\n",
       "      <td>51.31</td>\n",
       "      <td>...</td>\n",
       "      <td>734.05</td>\n",
       "      <td>48.99</td>\n",
       "      <td>82.850</td>\n",
       "      <td>47.94</td>\n",
       "      <td>16.880</td>\n",
       "      <td>1.770</td>\n",
       "      <td>0</td>\n",
       "      <td>0</td>\n",
       "      <td>1</td>\n",
       "      <td>0</td>\n",
       "    </tr>\n",
       "    <tr>\n",
       "      <th>2</th>\n",
       "      <td>7.60</td>\n",
       "      <td>0.50</td>\n",
       "      <td>59.86</td>\n",
       "      <td>94.29</td>\n",
       "      <td>13.11</td>\n",
       "      <td>46.93</td>\n",
       "      <td>2.29</td>\n",
       "      <td>8.61</td>\n",
       "      <td>3.43</td>\n",
       "      <td>65.53</td>\n",
       "      <td>...</td>\n",
       "      <td>728.08</td>\n",
       "      <td>108.24</td>\n",
       "      <td>250.105</td>\n",
       "      <td>73.52</td>\n",
       "      <td>21.605</td>\n",
       "      <td>1.775</td>\n",
       "      <td>0</td>\n",
       "      <td>0</td>\n",
       "      <td>1</td>\n",
       "      <td>0</td>\n",
       "    </tr>\n",
       "    <tr>\n",
       "      <th>3</th>\n",
       "      <td>7.57</td>\n",
       "      <td>0.77</td>\n",
       "      <td>63.56</td>\n",
       "      <td>66.91</td>\n",
       "      <td>16.19</td>\n",
       "      <td>112.95</td>\n",
       "      <td>3.92</td>\n",
       "      <td>10.76</td>\n",
       "      <td>4.66</td>\n",
       "      <td>68.83</td>\n",
       "      <td>...</td>\n",
       "      <td>730.47</td>\n",
       "      <td>46.93</td>\n",
       "      <td>171.360</td>\n",
       "      <td>59.86</td>\n",
       "      <td>13.110</td>\n",
       "      <td>0.500</td>\n",
       "      <td>0</td>\n",
       "      <td>0</td>\n",
       "      <td>1</td>\n",
       "      <td>0</td>\n",
       "    </tr>\n",
       "    <tr>\n",
       "      <th>4</th>\n",
       "      <td>8.34</td>\n",
       "      <td>0.48</td>\n",
       "      <td>61.99</td>\n",
       "      <td>69.48</td>\n",
       "      <td>20.28</td>\n",
       "      <td>104.87</td>\n",
       "      <td>5.19</td>\n",
       "      <td>15.95</td>\n",
       "      <td>7.66</td>\n",
       "      <td>67.40</td>\n",
       "      <td>...</td>\n",
       "      <td>730.62</td>\n",
       "      <td>112.95</td>\n",
       "      <td>232.220</td>\n",
       "      <td>63.56</td>\n",
       "      <td>16.190</td>\n",
       "      <td>0.770</td>\n",
       "      <td>0</td>\n",
       "      <td>0</td>\n",
       "      <td>1</td>\n",
       "      <td>0</td>\n",
       "    </tr>\n",
       "  </tbody>\n",
       "</table></div>"
      ],
      "text/plain": [
       "     NO    CO    NO2     O3    SO2   PM2.5  Benzene  Toulene  P_Xylene    NOx  \\\n",
       "0  7.22  1.77  47.94  51.07  16.88   48.99     2.53     9.65      3.00  52.97   \n",
       "1  6.99  0.22  45.27  19.26  16.71   60.20     3.19    11.10      2.67  51.31   \n",
       "2  7.60  0.50  59.86  94.29  13.11   46.93     2.29     8.61      3.43  65.53   \n",
       "3  7.57  0.77  63.56  66.91  16.19  112.95     3.92    10.76      4.66  68.83   \n",
       "4  8.34  0.48  61.99  69.48  20.28  104.87     5.19    15.95      7.66  67.40   \n",
       "\n",
       "   ...  BarPressure  PD_PM2.5  PD_PM10  PD_NO2  PD_SO2  PD_CO  \\\n",
       "0  ...       732.25    108.24  250.105   73.52  21.605  1.775   \n",
       "1  ...       734.05     48.99   82.850   47.94  16.880  1.770   \n",
       "2  ...       728.08    108.24  250.105   73.52  21.605  1.775   \n",
       "3  ...       730.47     46.93  171.360   59.86  13.110  0.500   \n",
       "4  ...       730.62    112.95  232.220   63.56  16.190  0.770   \n",
       "\n",
       "   Weather_Monsoon  Weather_Spring  Weather_Summer  Weather_Winter  \n",
       "0                0               0               1               0  \n",
       "1                0               0               1               0  \n",
       "2                0               0               1               0  \n",
       "3                0               0               1               0  \n",
       "4                0               0               1               0  \n",
       "\n",
       "[5 rows x 28 columns]"
      ]
     },
     "execution_count": 6,
     "metadata": {},
     "output_type": "execute_result"
    }
   ],
   "source": [
    "data.head()"
   ]
  },
  {
   "cell_type": "markdown",
   "metadata": {
    "id": "q6mt96cROPVW"
   },
   "source": [
    "#### Scaling the data"
   ]
  },
  {
   "cell_type": "markdown",
   "metadata": {},
   "source": [
    "### Question 1: Define Standard scaler and fit to the data_scaled"
   ]
  },
  {
   "cell_type": "code",
   "execution_count": 7,
   "metadata": {
    "id": "0f-iHotPOPVX"
   },
   "outputs": [],
   "source": [
    "scaler = StandardScaler()\n",
    "data_scaled = scaler.fit_transform(data)"
   ]
  },
  {
   "cell_type": "code",
   "execution_count": 8,
   "metadata": {
    "id": "ewM1fJZDOPVX"
   },
   "outputs": [],
   "source": [
    "data_scaled = pd.DataFrame(data_scaled, columns=data.columns)"
   ]
  },
  {
   "cell_type": "markdown",
   "metadata": {
    "id": "xrzAdBTkOPVY"
   },
   "source": [
    "## Principal Component Analysis"
   ]
  },
  {
   "cell_type": "markdown",
   "metadata": {},
   "source": [
    "### Question 2: Define PCA with n components and random_state =1 and fit to the scaled data."
   ]
  },
  {
   "cell_type": "code",
   "execution_count": 11,
   "metadata": {
    "id": "X1T7BATJOPVY"
   },
   "outputs": [],
   "source": [
    "#Defining the number of principal components to generate \n",
    "n = data_scaled.shape[1]\n",
    "\n",
    "#Finding principal components for the data\n",
    "pca1 = PCA(n_components=n, random_state=1) \n",
    "data_pca = pd.DataFrame(pca1.fit_transform(data_scaled))\n",
    "\n",
    "#The percentage of variance explained by each principal component\n",
    "exp_var1 = pca1.explained_variance_ratio_"
   ]
  },
  {
   "cell_type": "code",
   "execution_count": 14,
   "metadata": {
    "id": "8GsLRhKuOPVZ",
    "outputId": "ad3e9497-99cd-4387-b546-effbb8ebc47b"
   },
   "outputs": [
    {
     "data": {
      "text/plain": [
       "Text(0, 0.5, 'Cumulative Explained Variance')"
      ]
     },
     "execution_count": 14,
     "metadata": {},
     "output_type": "execute_result"
    },
    {
     "data": {
      "image/png": "[encoded data removed]",
      "text/plain": [
       "<Figure size 720x720 with 1 Axes>"
      ]
     },
     "metadata": {
      "needs_background": "light"
     },
     "output_type": "display_data"
    }
   ],
   "source": [
    "# visulaize the explained variance by individual components\n",
    "plt.figure(figsize = (10,10))\n",
    "plt.plot(range(1,29), pca1.explained_variance_ratio_.cumsum(), marker = 'o', linestyle = '--')\n",
    "plt.title(\"Explained Variances by Components\")\n",
    "plt.xlabel(\"Number of Components\")\n",
    "plt.ylabel(\"Cumulative Explained Variance\")"
   ]
  },
  {
   "cell_type": "code",
   "execution_count": 16,
   "metadata": {},
   "outputs": [
    {
     "data": {
      "text/plain": [
       "array([0.40157886, 0.12764382, 0.07673692, 0.06749461, 0.04392657,\n",
       "       0.03559814, 0.03115307, 0.02781003, 0.02365943, 0.02158212,\n",
       "       0.01841877, 0.01622558, 0.01499302, 0.01363074, 0.01281323,\n",
       "       0.0118397 , 0.01011448, 0.00961036, 0.00878955, 0.00583886,\n",
       "       0.00510724, 0.00430188, 0.00307071, 0.0025847 , 0.00247086,\n",
       "       0.00167626, 0.00082498, 0.00050549])"
      ]
     },
     "execution_count": 16,
     "metadata": {},
     "output_type": "execute_result"
    }
   ],
   "source": [
    "exp_var1"
   ]
  },
  {
   "cell_type": "markdown",
   "metadata": {},
   "source": [
    "### Question 3: How many Principal components explains more than 70% variance in the dataset"
   ]
  },
  {
   "cell_type": "code",
   "execution_count": 35,
   "metadata": {
    "id": "5VW92ZD2OPVZ",
    "outputId": "fd6f6d47-8e0c-4e30-d7f6-60c88f642eaa"
   },
   "outputs": [
    {
     "name": "stdout",
     "output_type": "stream",
     "text": [
      "0.4\n",
      "0.53\n",
      "0.61\n",
      "0.68\n",
      "0.72\n",
      "Number of PCs that explain at least 70% variance:  4\n"
     ]
    }
   ],
   "source": [
    "# find the least number of components that can explain more than 70% variance\n",
    "sum = 0\n",
    "for ix, i in enumerate(exp_var1):\n",
    "  sum = sum + i\n",
    "  sum = round(sum,2)\n",
    "  print(sum)\n",
    "  if(sum==0.72):\n",
    "    print(\"Number of PCs that explain at least 70% variance: \", ix)\n",
    "    break"
   ]
  },
  {
   "cell_type": "code",
   "execution_count": 36,
   "metadata": {
    "id": "l0ClAlbfOPVa"
   },
   "outputs": [],
   "source": [
    "#Making a new dataframe with first 8 principal components and original features as indices\n",
    "cols = ['PC1', 'PC2', 'PC3', 'PC4', 'PC5']\n",
    "\n",
    "pc1 = pd.DataFrame(np.round(pca1.components_.T[:, 0:5],2), index=data_scaled.columns, columns=cols)"
   ]
  },
  {
   "cell_type": "markdown",
   "metadata": {},
   "source": [
    "### Question 4 : Interpret the coefficients of Five principal components from the below dataframe."
   ]
  },
  {
   "cell_type": "code",
   "execution_count": 37,
   "metadata": {
    "id": "hAOwaQpYzoyO",
    "outputId": "c63de617-cc2d-435e-fe33-f33770654810"
   },
   "outputs": [
    {
     "data": {
      "text/html": [
       "<style  type=\"text/css\" >\n",
       "#T_19d07_row0_col0,#T_19d07_row4_col3,#T_19d07_row5_col0,#T_19d07_row6_col0,#T_19d07_row7_col0,#T_19d07_row7_col2,#T_19d07_row8_col0,#T_19d07_row9_col2,#T_19d07_row13_col1,#T_19d07_row14_col2,#T_19d07_row16_col2,#T_19d07_row16_col4,#T_19d07_row18_col3,#T_19d07_row21_col4,#T_19d07_row24_col1,#T_19d07_row25_col3,#T_19d07_row25_col4{\n",
       "            background:  skyblue;\n",
       "        }#T_19d07_row3_col1,#T_19d07_row11_col4,#T_19d07_row15_col2,#T_19d07_row17_col4,#T_19d07_row18_col2,#T_19d07_row26_col1,#T_19d07_row26_col3,#T_19d07_row27_col2,#T_19d07_row27_col3{\n",
       "            background:  pink;\n",
       "        }</style><table id=\"T_19d07_\" ><thead>    <tr>        <th class=\"blank level0\" ></th>        <th class=\"col_heading level0 col0\" >PC1</th>        <th class=\"col_heading level0 col1\" >PC2</th>        <th class=\"col_heading level0 col2\" >PC3</th>        <th class=\"col_heading level0 col3\" >PC4</th>        <th class=\"col_heading level0 col4\" >PC5</th>    </tr></thead><tbody>\n",
       "                <tr>\n",
       "                        <th id=\"T_19d07_level0_row0\" class=\"row_heading level0 row0\" >NO</th>\n",
       "                        <td id=\"T_19d07_row0_col0\" class=\"data row0 col0\" >0.250000</td>\n",
       "                        <td id=\"T_19d07_row0_col1\" class=\"data row0 col1\" >-0.050000</td>\n",
       "                        <td id=\"T_19d07_row0_col2\" class=\"data row0 col2\" >0.180000</td>\n",
       "                        <td id=\"T_19d07_row0_col3\" class=\"data row0 col3\" >0.140000</td>\n",
       "                        <td id=\"T_19d07_row0_col4\" class=\"data row0 col4\" >-0.130000</td>\n",
       "            </tr>\n",
       "            <tr>\n",
       "                        <th id=\"T_19d07_level0_row1\" class=\"row_heading level0 row1\" >CO</th>\n",
       "                        <td id=\"T_19d07_row1_col0\" class=\"data row1 col0\" >0.210000</td>\n",
       "                        <td id=\"T_19d07_row1_col1\" class=\"data row1 col1\" >0.040000</td>\n",
       "                        <td id=\"T_19d07_row1_col2\" class=\"data row1 col2\" >0.180000</td>\n",
       "                        <td id=\"T_19d07_row1_col3\" class=\"data row1 col3\" >-0.000000</td>\n",
       "                        <td id=\"T_19d07_row1_col4\" class=\"data row1 col4\" >-0.030000</td>\n",
       "            </tr>\n",
       "            <tr>\n",
       "                        <th id=\"T_19d07_level0_row2\" class=\"row_heading level0 row2\" >NO2</th>\n",
       "                        <td id=\"T_19d07_row2_col0\" class=\"data row2 col0\" >0.190000</td>\n",
       "                        <td id=\"T_19d07_row2_col1\" class=\"data row2 col1\" >-0.220000</td>\n",
       "                        <td id=\"T_19d07_row2_col2\" class=\"data row2 col2\" >0.180000</td>\n",
       "                        <td id=\"T_19d07_row2_col3\" class=\"data row2 col3\" >0.060000</td>\n",
       "                        <td id=\"T_19d07_row2_col4\" class=\"data row2 col4\" >0.240000</td>\n",
       "            </tr>\n",
       "            <tr>\n",
       "                        <th id=\"T_19d07_level0_row3\" class=\"row_heading level0 row3\" >O3</th>\n",
       "                        <td id=\"T_19d07_row3_col0\" class=\"data row3 col0\" >0.020000</td>\n",
       "                        <td id=\"T_19d07_row3_col1\" class=\"data row3 col1\" >-0.380000</td>\n",
       "                        <td id=\"T_19d07_row3_col2\" class=\"data row3 col2\" >-0.020000</td>\n",
       "                        <td id=\"T_19d07_row3_col3\" class=\"data row3 col3\" >0.180000</td>\n",
       "                        <td id=\"T_19d07_row3_col4\" class=\"data row3 col4\" >0.080000</td>\n",
       "            </tr>\n",
       "            <tr>\n",
       "                        <th id=\"T_19d07_level0_row4\" class=\"row_heading level0 row4\" >SO2</th>\n",
       "                        <td id=\"T_19d07_row4_col0\" class=\"data row4 col0\" >0.120000</td>\n",
       "                        <td id=\"T_19d07_row4_col1\" class=\"data row4 col1\" >-0.190000</td>\n",
       "                        <td id=\"T_19d07_row4_col2\" class=\"data row4 col2\" >-0.200000</td>\n",
       "                        <td id=\"T_19d07_row4_col3\" class=\"data row4 col3\" >0.280000</td>\n",
       "                        <td id=\"T_19d07_row4_col4\" class=\"data row4 col4\" >-0.110000</td>\n",
       "            </tr>\n",
       "            <tr>\n",
       "                        <th id=\"T_19d07_level0_row5\" class=\"row_heading level0 row5\" >PM2.5</th>\n",
       "                        <td id=\"T_19d07_row5_col0\" class=\"data row5 col0\" >0.260000</td>\n",
       "                        <td id=\"T_19d07_row5_col1\" class=\"data row5 col1\" >-0.060000</td>\n",
       "                        <td id=\"T_19d07_row5_col2\" class=\"data row5 col2\" >-0.100000</td>\n",
       "                        <td id=\"T_19d07_row5_col3\" class=\"data row5 col3\" >-0.180000</td>\n",
       "                        <td id=\"T_19d07_row5_col4\" class=\"data row5 col4\" >-0.140000</td>\n",
       "            </tr>\n",
       "            <tr>\n",
       "                        <th id=\"T_19d07_level0_row6\" class=\"row_heading level0 row6\" >Benzene</th>\n",
       "                        <td id=\"T_19d07_row6_col0\" class=\"data row6 col0\" >0.270000</td>\n",
       "                        <td id=\"T_19d07_row6_col1\" class=\"data row6 col1\" >0.090000</td>\n",
       "                        <td id=\"T_19d07_row6_col2\" class=\"data row6 col2\" >0.150000</td>\n",
       "                        <td id=\"T_19d07_row6_col3\" class=\"data row6 col3\" >0.010000</td>\n",
       "                        <td id=\"T_19d07_row6_col4\" class=\"data row6 col4\" >-0.010000</td>\n",
       "            </tr>\n",
       "            <tr>\n",
       "                        <th id=\"T_19d07_level0_row7\" class=\"row_heading level0 row7\" >Toulene</th>\n",
       "                        <td id=\"T_19d07_row7_col0\" class=\"data row7 col0\" >0.250000</td>\n",
       "                        <td id=\"T_19d07_row7_col1\" class=\"data row7 col1\" >0.100000</td>\n",
       "                        <td id=\"T_19d07_row7_col2\" class=\"data row7 col2\" >0.270000</td>\n",
       "                        <td id=\"T_19d07_row7_col3\" class=\"data row7 col3\" >0.080000</td>\n",
       "                        <td id=\"T_19d07_row7_col4\" class=\"data row7 col4\" >0.010000</td>\n",
       "            </tr>\n",
       "            <tr>\n",
       "                        <th id=\"T_19d07_level0_row8\" class=\"row_heading level0 row8\" >P_Xylene</th>\n",
       "                        <td id=\"T_19d07_row8_col0\" class=\"data row8 col0\" >0.250000</td>\n",
       "                        <td id=\"T_19d07_row8_col1\" class=\"data row8 col1\" >0.070000</td>\n",
       "                        <td id=\"T_19d07_row8_col2\" class=\"data row8 col2\" >0.220000</td>\n",
       "                        <td id=\"T_19d07_row8_col3\" class=\"data row8 col3\" >0.030000</td>\n",
       "                        <td id=\"T_19d07_row8_col4\" class=\"data row8 col4\" >-0.100000</td>\n",
       "            </tr>\n",
       "            <tr>\n",
       "                        <th id=\"T_19d07_level0_row9\" class=\"row_heading level0 row9\" >NOx</th>\n",
       "                        <td id=\"T_19d07_row9_col0\" class=\"data row9 col0\" >0.240000</td>\n",
       "                        <td id=\"T_19d07_row9_col1\" class=\"data row9 col1\" >0.010000</td>\n",
       "                        <td id=\"T_19d07_row9_col2\" class=\"data row9 col2\" >0.260000</td>\n",
       "                        <td id=\"T_19d07_row9_col3\" class=\"data row9 col3\" >0.150000</td>\n",
       "                        <td id=\"T_19d07_row9_col4\" class=\"data row9 col4\" >-0.120000</td>\n",
       "            </tr>\n",
       "            <tr>\n",
       "                        <th id=\"T_19d07_level0_row10\" class=\"row_heading level0 row10\" >PM10</th>\n",
       "                        <td id=\"T_19d07_row10_col0\" class=\"data row10 col0\" >0.230000</td>\n",
       "                        <td id=\"T_19d07_row10_col1\" class=\"data row10 col1\" >-0.170000</td>\n",
       "                        <td id=\"T_19d07_row10_col2\" class=\"data row10 col2\" >-0.100000</td>\n",
       "                        <td id=\"T_19d07_row10_col3\" class=\"data row10 col3\" >-0.160000</td>\n",
       "                        <td id=\"T_19d07_row10_col4\" class=\"data row10 col4\" >-0.200000</td>\n",
       "            </tr>\n",
       "            <tr>\n",
       "                        <th id=\"T_19d07_level0_row11\" class=\"row_heading level0 row11\" >WindDirection</th>\n",
       "                        <td id=\"T_19d07_row11_col0\" class=\"data row11 col0\" >0.090000</td>\n",
       "                        <td id=\"T_19d07_row11_col1\" class=\"data row11 col1\" >-0.060000</td>\n",
       "                        <td id=\"T_19d07_row11_col2\" class=\"data row11 col2\" >0.030000</td>\n",
       "                        <td id=\"T_19d07_row11_col3\" class=\"data row11 col3\" >0.130000</td>\n",
       "                        <td id=\"T_19d07_row11_col4\" class=\"data row11 col4\" >-0.560000</td>\n",
       "            </tr>\n",
       "            <tr>\n",
       "                        <th id=\"T_19d07_level0_row12\" class=\"row_heading level0 row12\" >NH3</th>\n",
       "                        <td id=\"T_19d07_row12_col0\" class=\"data row12 col0\" >0.240000</td>\n",
       "                        <td id=\"T_19d07_row12_col1\" class=\"data row12 col1\" >0.040000</td>\n",
       "                        <td id=\"T_19d07_row12_col2\" class=\"data row12 col2\" >-0.120000</td>\n",
       "                        <td id=\"T_19d07_row12_col3\" class=\"data row12 col3\" >-0.080000</td>\n",
       "                        <td id=\"T_19d07_row12_col4\" class=\"data row12 col4\" >0.110000</td>\n",
       "            </tr>\n",
       "            <tr>\n",
       "                        <th id=\"T_19d07_level0_row13\" class=\"row_heading level0 row13\" >RH</th>\n",
       "                        <td id=\"T_19d07_row13_col0\" class=\"data row13 col0\" >0.100000</td>\n",
       "                        <td id=\"T_19d07_row13_col1\" class=\"data row13 col1\" >0.460000</td>\n",
       "                        <td id=\"T_19d07_row13_col2\" class=\"data row13 col2\" >-0.020000</td>\n",
       "                        <td id=\"T_19d07_row13_col3\" class=\"data row13 col3\" >0.010000</td>\n",
       "                        <td id=\"T_19d07_row13_col4\" class=\"data row13 col4\" >0.180000</td>\n",
       "            </tr>\n",
       "            <tr>\n",
       "                        <th id=\"T_19d07_level0_row14\" class=\"row_heading level0 row14\" >Temp</th>\n",
       "                        <td id=\"T_19d07_row14_col0\" class=\"data row14 col0\" >-0.210000</td>\n",
       "                        <td id=\"T_19d07_row14_col1\" class=\"data row14 col1\" >-0.170000</td>\n",
       "                        <td id=\"T_19d07_row14_col2\" class=\"data row14 col2\" >0.300000</td>\n",
       "                        <td id=\"T_19d07_row14_col3\" class=\"data row14 col3\" >-0.060000</td>\n",
       "                        <td id=\"T_19d07_row14_col4\" class=\"data row14 col4\" >-0.200000</td>\n",
       "            </tr>\n",
       "            <tr>\n",
       "                        <th id=\"T_19d07_level0_row15\" class=\"row_heading level0 row15\" >WindSpeed</th>\n",
       "                        <td id=\"T_19d07_row15_col0\" class=\"data row15 col0\" >-0.200000</td>\n",
       "                        <td id=\"T_19d07_row15_col1\" class=\"data row15 col1\" >-0.040000</td>\n",
       "                        <td id=\"T_19d07_row15_col2\" class=\"data row15 col2\" >-0.270000</td>\n",
       "                        <td id=\"T_19d07_row15_col3\" class=\"data row15 col3\" >-0.070000</td>\n",
       "                        <td id=\"T_19d07_row15_col4\" class=\"data row15 col4\" >-0.070000</td>\n",
       "            </tr>\n",
       "            <tr>\n",
       "                        <th id=\"T_19d07_level0_row16\" class=\"row_heading level0 row16\" >VerticalWindSpeed</th>\n",
       "                        <td id=\"T_19d07_row16_col0\" class=\"data row16 col0\" >-0.030000</td>\n",
       "                        <td id=\"T_19d07_row16_col1\" class=\"data row16 col1\" >-0.220000</td>\n",
       "                        <td id=\"T_19d07_row16_col2\" class=\"data row16 col2\" >0.280000</td>\n",
       "                        <td id=\"T_19d07_row16_col3\" class=\"data row16 col3\" >-0.200000</td>\n",
       "                        <td id=\"T_19d07_row16_col4\" class=\"data row16 col4\" >0.310000</td>\n",
       "            </tr>\n",
       "            <tr>\n",
       "                        <th id=\"T_19d07_level0_row17\" class=\"row_heading level0 row17\" >Solar</th>\n",
       "                        <td id=\"T_19d07_row17_col0\" class=\"data row17 col0\" >-0.180000</td>\n",
       "                        <td id=\"T_19d07_row17_col1\" class=\"data row17 col1\" >-0.220000</td>\n",
       "                        <td id=\"T_19d07_row17_col2\" class=\"data row17 col2\" >0.140000</td>\n",
       "                        <td id=\"T_19d07_row17_col3\" class=\"data row17 col3\" >0.110000</td>\n",
       "                        <td id=\"T_19d07_row17_col4\" class=\"data row17 col4\" >-0.270000</td>\n",
       "            </tr>\n",
       "            <tr>\n",
       "                        <th id=\"T_19d07_level0_row18\" class=\"row_heading level0 row18\" >BarPressure</th>\n",
       "                        <td id=\"T_19d07_row18_col0\" class=\"data row18 col0\" >0.130000</td>\n",
       "                        <td id=\"T_19d07_row18_col1\" class=\"data row18 col1\" >-0.010000</td>\n",
       "                        <td id=\"T_19d07_row18_col2\" class=\"data row18 col2\" >-0.290000</td>\n",
       "                        <td id=\"T_19d07_row18_col3\" class=\"data row18 col3\" >0.270000</td>\n",
       "                        <td id=\"T_19d07_row18_col4\" class=\"data row18 col4\" >-0.060000</td>\n",
       "            </tr>\n",
       "            <tr>\n",
       "                        <th id=\"T_19d07_level0_row19\" class=\"row_heading level0 row19\" >PD_PM2.5</th>\n",
       "                        <td id=\"T_19d07_row19_col0\" class=\"data row19 col0\" >0.240000</td>\n",
       "                        <td id=\"T_19d07_row19_col1\" class=\"data row19 col1\" >-0.050000</td>\n",
       "                        <td id=\"T_19d07_row19_col2\" class=\"data row19 col2\" >-0.180000</td>\n",
       "                        <td id=\"T_19d07_row19_col3\" class=\"data row19 col3\" >-0.240000</td>\n",
       "                        <td id=\"T_19d07_row19_col4\" class=\"data row19 col4\" >-0.030000</td>\n",
       "            </tr>\n",
       "            <tr>\n",
       "                        <th id=\"T_19d07_level0_row20\" class=\"row_heading level0 row20\" >PD_PM10</th>\n",
       "                        <td id=\"T_19d07_row20_col0\" class=\"data row20 col0\" >0.220000</td>\n",
       "                        <td id=\"T_19d07_row20_col1\" class=\"data row20 col1\" >-0.150000</td>\n",
       "                        <td id=\"T_19d07_row20_col2\" class=\"data row20 col2\" >-0.190000</td>\n",
       "                        <td id=\"T_19d07_row20_col3\" class=\"data row20 col3\" >-0.240000</td>\n",
       "                        <td id=\"T_19d07_row20_col4\" class=\"data row20 col4\" >-0.040000</td>\n",
       "            </tr>\n",
       "            <tr>\n",
       "                        <th id=\"T_19d07_level0_row21\" class=\"row_heading level0 row21\" >PD_NO2</th>\n",
       "                        <td id=\"T_19d07_row21_col0\" class=\"data row21 col0\" >0.180000</td>\n",
       "                        <td id=\"T_19d07_row21_col1\" class=\"data row21 col1\" >-0.230000</td>\n",
       "                        <td id=\"T_19d07_row21_col2\" class=\"data row21 col2\" >0.080000</td>\n",
       "                        <td id=\"T_19d07_row21_col3\" class=\"data row21 col3\" >-0.020000</td>\n",
       "                        <td id=\"T_19d07_row21_col4\" class=\"data row21 col4\" >0.280000</td>\n",
       "            </tr>\n",
       "            <tr>\n",
       "                        <th id=\"T_19d07_level0_row22\" class=\"row_heading level0 row22\" >PD_SO2</th>\n",
       "                        <td id=\"T_19d07_row22_col0\" class=\"data row22 col0\" >0.130000</td>\n",
       "                        <td id=\"T_19d07_row22_col1\" class=\"data row22 col1\" >-0.170000</td>\n",
       "                        <td id=\"T_19d07_row22_col2\" class=\"data row22 col2\" >-0.160000</td>\n",
       "                        <td id=\"T_19d07_row22_col3\" class=\"data row22 col3\" >0.240000</td>\n",
       "                        <td id=\"T_19d07_row22_col4\" class=\"data row22 col4\" >-0.080000</td>\n",
       "            </tr>\n",
       "            <tr>\n",
       "                        <th id=\"T_19d07_level0_row23\" class=\"row_heading level0 row23\" >PD_CO</th>\n",
       "                        <td id=\"T_19d07_row23_col0\" class=\"data row23 col0\" >0.190000</td>\n",
       "                        <td id=\"T_19d07_row23_col1\" class=\"data row23 col1\" >0.050000</td>\n",
       "                        <td id=\"T_19d07_row23_col2\" class=\"data row23 col2\" >0.060000</td>\n",
       "                        <td id=\"T_19d07_row23_col3\" class=\"data row23 col3\" >-0.130000</td>\n",
       "                        <td id=\"T_19d07_row23_col4\" class=\"data row23 col4\" >0.070000</td>\n",
       "            </tr>\n",
       "            <tr>\n",
       "                        <th id=\"T_19d07_level0_row24\" class=\"row_heading level0 row24\" >Weather_Monsoon</th>\n",
       "                        <td id=\"T_19d07_row24_col0\" class=\"data row24 col0\" >-0.100000</td>\n",
       "                        <td id=\"T_19d07_row24_col1\" class=\"data row24 col1\" >0.360000</td>\n",
       "                        <td id=\"T_19d07_row24_col2\" class=\"data row24 col2\" >0.150000</td>\n",
       "                        <td id=\"T_19d07_row24_col3\" class=\"data row24 col3\" >0.080000</td>\n",
       "                        <td id=\"T_19d07_row24_col4\" class=\"data row24 col4\" >-0.240000</td>\n",
       "            </tr>\n",
       "            <tr>\n",
       "                        <th id=\"T_19d07_level0_row25\" class=\"row_heading level0 row25\" >Weather_Spring</th>\n",
       "                        <td id=\"T_19d07_row25_col0\" class=\"data row25 col0\" >0.020000</td>\n",
       "                        <td id=\"T_19d07_row25_col1\" class=\"data row25 col1\" >-0.040000</td>\n",
       "                        <td id=\"T_19d07_row25_col2\" class=\"data row25 col2\" >-0.190000</td>\n",
       "                        <td id=\"T_19d07_row25_col3\" class=\"data row25 col3\" >0.530000</td>\n",
       "                        <td id=\"T_19d07_row25_col4\" class=\"data row25 col4\" >0.290000</td>\n",
       "            </tr>\n",
       "            <tr>\n",
       "                        <th id=\"T_19d07_level0_row26\" class=\"row_heading level0 row26\" >Weather_Summer</th>\n",
       "                        <td id=\"T_19d07_row26_col0\" class=\"data row26 col0\" >-0.130000</td>\n",
       "                        <td id=\"T_19d07_row26_col1\" class=\"data row26 col1\" >-0.330000</td>\n",
       "                        <td id=\"T_19d07_row26_col2\" class=\"data row26 col2\" >0.020000</td>\n",
       "                        <td id=\"T_19d07_row26_col3\" class=\"data row26 col3\" >-0.280000</td>\n",
       "                        <td id=\"T_19d07_row26_col4\" class=\"data row26 col4\" >-0.050000</td>\n",
       "            </tr>\n",
       "            <tr>\n",
       "                        <th id=\"T_19d07_level0_row27\" class=\"row_heading level0 row27\" >Weather_Winter</th>\n",
       "                        <td id=\"T_19d07_row27_col0\" class=\"data row27 col0\" >0.170000</td>\n",
       "                        <td id=\"T_19d07_row27_col1\" class=\"data row27 col1\" >0.120000</td>\n",
       "                        <td id=\"T_19d07_row27_col2\" class=\"data row27 col2\" >-0.330000</td>\n",
       "                        <td id=\"T_19d07_row27_col3\" class=\"data row27 col3\" >-0.250000</td>\n",
       "                        <td id=\"T_19d07_row27_col4\" class=\"data row27 col4\" >-0.090000</td>\n",
       "            </tr>\n",
       "    </tbody></table>"
      ],
      "text/plain": [
       "<pandas.io.formats.style.Styler at 0x7fc5fe697810>"
      ]
     },
     "execution_count": 37,
     "metadata": {},
     "output_type": "execute_result"
    }
   ],
   "source": [
    "def color_high(val):\n",
    "    if val <= -0.25: # you can decide any value as per your understanding\n",
    "        return 'background: pink'\n",
    "    elif val >= 0.25:\n",
    "        return 'background: skyblue'   \n",
    "    \n",
    "pc1.style.applymap(color_high)"
   ]
  },
  {
   "cell_type": "code",
   "execution_count": null,
   "metadata": {},
   "outputs": [],
   "source": []
  }
 ],
 "metadata": {
  "colab": {
   "collapsed_sections": [
    "q6mt96cROPVW"
   ],
   "name": "Case Study - PCA and TSNE (1).ipynb",
   "provenance": []
  },
  "kernelspec": {
   "display_name": "Python 3",
   "language": "python",
   "name": "python3"
  },
  "language_info": {
   "codemirror_mode": {
    "name": "ipython",
    "version": 3
   },
   "file_extension": ".py",
   "mimetype": "text/x-python",
   "name": "python",
   "nbconvert_exporter": "python",
   "pygments_lexer": "ipython3",
   "version": "3.7.6"
  }
 },
 "nbformat": 4,
 "nbformat_minor": 1
}
